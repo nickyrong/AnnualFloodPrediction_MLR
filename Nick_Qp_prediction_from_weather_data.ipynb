{
 "cells": [
  {
   "cell_type": "code",
   "execution_count": 6,
   "metadata": {},
   "outputs": [
    {
     "name": "stdout",
     "output_type": "stream",
     "text": [
      "/Users/nick/Dropbox/Datascience/Project_NWR\n"
     ]
    }
   ],
   "source": [
    "import pandas as pd\n",
    "import numpy as np\n",
    "import os\n",
    "\n",
    "print(os.getcwd())"
   ]
  },
  {
   "cell_type": "markdown",
   "metadata": {},
   "source": [
    "**Nick Weitao Rong, A.Ag, MSc** <br />\n",
    "Junior Scientist at Knight Piésold Consulting <br />\n",
    "\n",
    "# Purpose:\n",
    "    The scope of the project is to use interpolated climate data to predict each year's annual maximum flood. If successful, such tool can be used to interpolate gaps in the peakflow record and perhaps allow some short-range extrapolation/prediction."
   ]
  },
  {
   "cell_type": "markdown",
   "metadata": {},
   "source": [
    "# Method:\n",
    "## Data sources:\n",
    "The annual maximum peakflow data are from Water Survey of Canada. The dataset is downloaded and extracted using a R package (tidyhydat) which is developed and maintained by the Data Science and Analytics Branch of the British Columbia Ministry of Citizens’ Services. The dataset is then exported as CSV files to be used in Python.\n",
    "\n",
    "The weather data came from spatially interpolated weather station data (PRISM) and statistically downscaled by a software developed at UBC (ClimateBC). \n",
    "\n",
    "## Data screening & location of interest selection\n",
    "Selection criteria:\n",
    "1. Long record length\n",
    "2. Snowmelt dominated (i.e. no on the island or coastal BC)\n",
    "3. Sufficient climate station in the region (i.e. no northern BC area)\n",
    "\n"
   ]
  },
  {
   "cell_type": "code",
   "execution_count": 7,
   "metadata": {},
   "outputs": [
    {
     "data": {
      "text/html": [
       "<div>\n",
       "<style scoped>\n",
       "    .dataframe tbody tr th:only-of-type {\n",
       "        vertical-align: middle;\n",
       "    }\n",
       "\n",
       "    .dataframe tbody tr th {\n",
       "        vertical-align: top;\n",
       "    }\n",
       "\n",
       "    .dataframe thead th {\n",
       "        text-align: right;\n",
       "    }\n",
       "</style>\n",
       "<table border=\"1\" class=\"dataframe\">\n",
       "  <thead>\n",
       "    <tr style=\"text-align: right;\">\n",
       "      <th></th>\n",
       "      <th>STATION_NUMBER</th>\n",
       "      <th>STATION_NAME</th>\n",
       "      <th>PROV_TERR_STATE_LOC</th>\n",
       "      <th>REGIONAL_OFFICE_ID</th>\n",
       "      <th>HYD_STATUS</th>\n",
       "      <th>SED_STATUS</th>\n",
       "      <th>LATITUDE</th>\n",
       "      <th>LONGITUDE</th>\n",
       "      <th>DRAINAGE_AREA_GROSS</th>\n",
       "      <th>DRAINAGE_AREA_EFFECT</th>\n",
       "      <th>RHBN</th>\n",
       "      <th>REAL_TIME</th>\n",
       "      <th>CONTRIBUTOR_ID</th>\n",
       "      <th>OPERATOR_ID</th>\n",
       "      <th>DATUM_ID</th>\n",
       "      <th>DATA_TYPE</th>\n",
       "      <th>SED_DATA_TYPE</th>\n",
       "      <th>Year_from</th>\n",
       "      <th>Year_to</th>\n",
       "      <th>RECORD_LENGTH</th>\n",
       "    </tr>\n",
       "  </thead>\n",
       "  <tbody>\n",
       "    <tr>\n",
       "      <td>362</td>\n",
       "      <td>08GA010</td>\n",
       "      <td>CAPILANO RIVER ABOVE INTAKE</td>\n",
       "      <td>BC</td>\n",
       "      <td>2</td>\n",
       "      <td>ACTIVE</td>\n",
       "      <td>DISCONTINUED</td>\n",
       "      <td>49.396240</td>\n",
       "      <td>-123.145844</td>\n",
       "      <td>173.000000</td>\n",
       "      <td>NaN</td>\n",
       "      <td>True</td>\n",
       "      <td>False</td>\n",
       "      <td>55.0</td>\n",
       "      <td>647.0</td>\n",
       "      <td>11.0</td>\n",
       "      <td>Q</td>\n",
       "      <td>NaN</td>\n",
       "      <td>1914</td>\n",
       "      <td>2018</td>\n",
       "      <td>103</td>\n",
       "    </tr>\n",
       "    <tr>\n",
       "      <td>384</td>\n",
       "      <td>08GA030</td>\n",
       "      <td>SEYMOUR RIVER NEAR NORTH VANCOUVER</td>\n",
       "      <td>BC</td>\n",
       "      <td>2</td>\n",
       "      <td>ACTIVE</td>\n",
       "      <td>NaN</td>\n",
       "      <td>49.341980</td>\n",
       "      <td>-123.002121</td>\n",
       "      <td>179.000000</td>\n",
       "      <td>NaN</td>\n",
       "      <td>False</td>\n",
       "      <td>True</td>\n",
       "      <td>647.0</td>\n",
       "      <td>647.0</td>\n",
       "      <td>10.0</td>\n",
       "      <td>Q</td>\n",
       "      <td>NaN</td>\n",
       "      <td>1928</td>\n",
       "      <td>2018</td>\n",
       "      <td>90</td>\n",
       "    </tr>\n",
       "    <tr>\n",
       "      <td>507</td>\n",
       "      <td>08HA001</td>\n",
       "      <td>CHEMAINUS RIVER NEAR WESTHOLME</td>\n",
       "      <td>BC</td>\n",
       "      <td>2</td>\n",
       "      <td>ACTIVE</td>\n",
       "      <td>NaN</td>\n",
       "      <td>48.878361</td>\n",
       "      <td>-123.704643</td>\n",
       "      <td>355.000000</td>\n",
       "      <td>NaN</td>\n",
       "      <td>True</td>\n",
       "      <td>True</td>\n",
       "      <td>647.0</td>\n",
       "      <td>647.0</td>\n",
       "      <td>10.0</td>\n",
       "      <td>Q</td>\n",
       "      <td>NaN</td>\n",
       "      <td>1914</td>\n",
       "      <td>2018</td>\n",
       "      <td>71</td>\n",
       "    </tr>\n",
       "    <tr>\n",
       "      <td>595</td>\n",
       "      <td>08HB008</td>\n",
       "      <td>SPROAT RIVER NEAR ALBERNI</td>\n",
       "      <td>BC</td>\n",
       "      <td>2</td>\n",
       "      <td>ACTIVE</td>\n",
       "      <td>NaN</td>\n",
       "      <td>49.289719</td>\n",
       "      <td>-124.910278</td>\n",
       "      <td>351.000000</td>\n",
       "      <td>NaN</td>\n",
       "      <td>True</td>\n",
       "      <td>True</td>\n",
       "      <td>647.0</td>\n",
       "      <td>647.0</td>\n",
       "      <td>10.0</td>\n",
       "      <td>Q</td>\n",
       "      <td>NaN</td>\n",
       "      <td>1913</td>\n",
       "      <td>2017</td>\n",
       "      <td>97</td>\n",
       "    </tr>\n",
       "    <tr>\n",
       "      <td>1370</td>\n",
       "      <td>08LG016</td>\n",
       "      <td>PENNASK CREEK NEAR QUILCHENA</td>\n",
       "      <td>BC</td>\n",
       "      <td>2</td>\n",
       "      <td>ACTIVE</td>\n",
       "      <td>NaN</td>\n",
       "      <td>49.964920</td>\n",
       "      <td>-120.134933</td>\n",
       "      <td>87.599998</td>\n",
       "      <td>NaN</td>\n",
       "      <td>True</td>\n",
       "      <td>True</td>\n",
       "      <td>647.0</td>\n",
       "      <td>647.0</td>\n",
       "      <td>10.0</td>\n",
       "      <td>Q</td>\n",
       "      <td>NaN</td>\n",
       "      <td>1920</td>\n",
       "      <td>2015</td>\n",
       "      <td>74</td>\n",
       "    </tr>\n",
       "    <tr>\n",
       "      <td>1696</td>\n",
       "      <td>08MH016</td>\n",
       "      <td>CHILLIWACK RIVER AT OUTLET OF CHILLIWACK LAKE</td>\n",
       "      <td>BC</td>\n",
       "      <td>2</td>\n",
       "      <td>ACTIVE</td>\n",
       "      <td>NaN</td>\n",
       "      <td>49.083649</td>\n",
       "      <td>-121.458443</td>\n",
       "      <td>335.000000</td>\n",
       "      <td>NaN</td>\n",
       "      <td>True</td>\n",
       "      <td>False</td>\n",
       "      <td>647.0</td>\n",
       "      <td>647.0</td>\n",
       "      <td>10.0</td>\n",
       "      <td>Q</td>\n",
       "      <td>NaN</td>\n",
       "      <td>1923</td>\n",
       "      <td>2017</td>\n",
       "      <td>90</td>\n",
       "    </tr>\n",
       "    <tr>\n",
       "      <td>1979</td>\n",
       "      <td>08NE039</td>\n",
       "      <td>BIG SHEEP CREEK NEAR ROSSLAND</td>\n",
       "      <td>BC</td>\n",
       "      <td>2</td>\n",
       "      <td>ACTIVE</td>\n",
       "      <td>NaN</td>\n",
       "      <td>49.014648</td>\n",
       "      <td>-117.945297</td>\n",
       "      <td>347.000000</td>\n",
       "      <td>NaN</td>\n",
       "      <td>False</td>\n",
       "      <td>True</td>\n",
       "      <td>647.0</td>\n",
       "      <td>647.0</td>\n",
       "      <td>10.0</td>\n",
       "      <td>Q</td>\n",
       "      <td>NaN</td>\n",
       "      <td>1929</td>\n",
       "      <td>2018</td>\n",
       "      <td>72</td>\n",
       "    </tr>\n",
       "    <tr>\n",
       "      <td>2074</td>\n",
       "      <td>08NF001</td>\n",
       "      <td>KOOTENAY RIVER AT KOOTENAY CROSSING</td>\n",
       "      <td>BC</td>\n",
       "      <td>2</td>\n",
       "      <td>ACTIVE</td>\n",
       "      <td>NaN</td>\n",
       "      <td>50.887032</td>\n",
       "      <td>-116.046097</td>\n",
       "      <td>416.000000</td>\n",
       "      <td>NaN</td>\n",
       "      <td>True</td>\n",
       "      <td>True</td>\n",
       "      <td>647.0</td>\n",
       "      <td>647.0</td>\n",
       "      <td>10.0</td>\n",
       "      <td>Q</td>\n",
       "      <td>NaN</td>\n",
       "      <td>1939</td>\n",
       "      <td>2018</td>\n",
       "      <td>78</td>\n",
       "    </tr>\n",
       "  </tbody>\n",
       "</table>\n",
       "</div>"
      ],
      "text/plain": [
       "     STATION_NUMBER                                   STATION_NAME  \\\n",
       "362         08GA010                    CAPILANO RIVER ABOVE INTAKE   \n",
       "384         08GA030             SEYMOUR RIVER NEAR NORTH VANCOUVER   \n",
       "507         08HA001                 CHEMAINUS RIVER NEAR WESTHOLME   \n",
       "595         08HB008                      SPROAT RIVER NEAR ALBERNI   \n",
       "1370        08LG016                   PENNASK CREEK NEAR QUILCHENA   \n",
       "1696        08MH016  CHILLIWACK RIVER AT OUTLET OF CHILLIWACK LAKE   \n",
       "1979        08NE039                  BIG SHEEP CREEK NEAR ROSSLAND   \n",
       "2074        08NF001            KOOTENAY RIVER AT KOOTENAY CROSSING   \n",
       "\n",
       "     PROV_TERR_STATE_LOC  REGIONAL_OFFICE_ID HYD_STATUS    SED_STATUS  \\\n",
       "362                   BC                   2     ACTIVE  DISCONTINUED   \n",
       "384                   BC                   2     ACTIVE           NaN   \n",
       "507                   BC                   2     ACTIVE           NaN   \n",
       "595                   BC                   2     ACTIVE           NaN   \n",
       "1370                  BC                   2     ACTIVE           NaN   \n",
       "1696                  BC                   2     ACTIVE           NaN   \n",
       "1979                  BC                   2     ACTIVE           NaN   \n",
       "2074                  BC                   2     ACTIVE           NaN   \n",
       "\n",
       "       LATITUDE   LONGITUDE  DRAINAGE_AREA_GROSS  DRAINAGE_AREA_EFFECT   RHBN  \\\n",
       "362   49.396240 -123.145844           173.000000                   NaN   True   \n",
       "384   49.341980 -123.002121           179.000000                   NaN  False   \n",
       "507   48.878361 -123.704643           355.000000                   NaN   True   \n",
       "595   49.289719 -124.910278           351.000000                   NaN   True   \n",
       "1370  49.964920 -120.134933            87.599998                   NaN   True   \n",
       "1696  49.083649 -121.458443           335.000000                   NaN   True   \n",
       "1979  49.014648 -117.945297           347.000000                   NaN  False   \n",
       "2074  50.887032 -116.046097           416.000000                   NaN   True   \n",
       "\n",
       "      REAL_TIME  CONTRIBUTOR_ID  OPERATOR_ID  DATUM_ID DATA_TYPE  \\\n",
       "362       False            55.0        647.0      11.0         Q   \n",
       "384        True           647.0        647.0      10.0         Q   \n",
       "507        True           647.0        647.0      10.0         Q   \n",
       "595        True           647.0        647.0      10.0         Q   \n",
       "1370       True           647.0        647.0      10.0         Q   \n",
       "1696      False           647.0        647.0      10.0         Q   \n",
       "1979       True           647.0        647.0      10.0         Q   \n",
       "2074       True           647.0        647.0      10.0         Q   \n",
       "\n",
       "     SED_DATA_TYPE  Year_from  Year_to  RECORD_LENGTH  \n",
       "362            NaN       1914     2018            103  \n",
       "384            NaN       1928     2018             90  \n",
       "507            NaN       1914     2018             71  \n",
       "595            NaN       1913     2017             97  \n",
       "1370           NaN       1920     2015             74  \n",
       "1696           NaN       1923     2017             90  \n",
       "1979           NaN       1929     2018             72  \n",
       "2074           NaN       1939     2018             78  "
      ]
     },
     "execution_count": 7,
     "metadata": {},
     "output_type": "execute_result"
    }
   ],
   "source": [
    "wsc_stn_info = pd.read_csv('./HYDAT_BC_station_info.csv')\n",
    "wsc_stn_range = pd.read_csv('./HYDAT_BC_station_range.csv')\n",
    "\n",
    "wsc_stn_meta = wsc_stn_info.merge(wsc_stn_range, on = 'STATION_NUMBER', how = 'left')\n",
    "\n",
    "wsc_stn_meta.dtypes\n",
    "wsc_stn_selected = wsc_stn_meta[(wsc_stn_meta['HYD_STATUS'] == 'ACTIVE') & \n",
    "                                 (wsc_stn_meta['DATA_TYPE'] == 'Q') &\n",
    "                                 (wsc_stn_meta['RECORD_LENGTH'] > 70) &\n",
    "                                 (wsc_stn_meta['DRAINAGE_AREA_GROSS'] < 500)]\n",
    "\n",
    "wsc_stn_selected"
   ]
  },
  {
   "cell_type": "markdown",
   "metadata": {},
   "source": [
    "Best candidate is 08NF001 (Kootenay River at Kootenay Crossing) (50.887032, -116.046097) in the Rookie, 416 km2 drainage area, 1939-2018 (78 years), snowmelt dominated...\n",
    "\n",
    "<img src=\"./Project_location.png\" alt=\"Location\"\n",
    "\ttitle=\"Project Location\" width=\"800\" height=\"1000\" />\n",
    "\n",
    "Read in the CSV file downloaded from water survey of canada <br />\n",
    "https://wateroffice.ec.gc.ca/download/index_e.html?results_type=historical\n",
    "\n",
    "The ClimateBC/WNA software is ran with the given coordinate to produce interpolated climate indecies (spatial downscalled PRISM data):\n",
    "\n",
    "<img src=\"./ClimateWNA_example.png\" alt=\"ClimateWNA\"\n",
    "\ttitle=\"ClimateWNA page\" width=\"800\" height=\"1000\" />\n",
    "    \n",
    "Read in the CSV output from ClimateBC.\n",
    "Merge the flood data and weather data dataframes by year."
   ]
  },
  {
   "cell_type": "code",
   "execution_count": 8,
   "metadata": {},
   "outputs": [
    {
     "data": {
      "text/plain": [
       "[' ID',\n",
       " 'PARAM',\n",
       " 'MM--DD',\n",
       " 'MAX',\n",
       " 'ID1',\n",
       " 'ID2',\n",
       " 'Latitude',\n",
       " 'Longitude',\n",
       " 'Elevation',\n",
       " 'Tmax_wt',\n",
       " 'Tmax_sp',\n",
       " 'Tmax_sm',\n",
       " 'Tmax_at',\n",
       " 'Tmin_wt',\n",
       " 'Tmin_sp',\n",
       " 'Tmin_sm',\n",
       " 'Tmin_at',\n",
       " 'Tave_wt',\n",
       " 'Tave_sp',\n",
       " 'Tave_sm',\n",
       " 'Tave_at',\n",
       " 'PPT_wt',\n",
       " 'PPT_sp',\n",
       " 'PPT_sm',\n",
       " 'PPT_at',\n",
       " 'DD_0_wt',\n",
       " 'DD_0_sp',\n",
       " 'DD_0_sm',\n",
       " 'DD_0_at',\n",
       " 'DD5_wt',\n",
       " 'DD5_sp',\n",
       " 'DD5_sm',\n",
       " 'DD5_at',\n",
       " 'DD_18_wt',\n",
       " 'DD_18_sp',\n",
       " 'DD_18_sm',\n",
       " 'DD_18_at',\n",
       " 'DD18_wt',\n",
       " 'DD18_sp',\n",
       " 'DD18_sm',\n",
       " 'DD18_at',\n",
       " 'NFFD_wt',\n",
       " 'NFFD_sp',\n",
       " 'NFFD_sm',\n",
       " 'NFFD_at',\n",
       " 'PAS_wt',\n",
       " 'PAS_sp',\n",
       " 'PAS_sm',\n",
       " 'PAS_at',\n",
       " 'Eref_wt',\n",
       " 'Eref_sp',\n",
       " 'Eref_sm',\n",
       " 'Eref_at',\n",
       " 'CMD_wt',\n",
       " 'CMD_sp',\n",
       " 'CMD_sm',\n",
       " 'CMD_at',\n",
       " 'RH_wt',\n",
       " 'RH_sp',\n",
       " 'RH_sm',\n",
       " 'RH_at']"
      ]
     },
     "execution_count": 8,
     "metadata": {},
     "output_type": "execute_result"
    }
   ],
   "source": [
    "kootenay_flood = pd.read_csv('./08NF001_AnnualExtremesMax.csv')\n",
    "kootenay_climate = pd.read_csv('./PRISM_data_at_08NF001_1930-2018S.csv')\n",
    "kootenay = kootenay_flood.merge(kootenay_climate, on = 'Year', how = 'left')\n",
    "kootenay.dropna(subset = [\"MAX\"], inplace=True)\n",
    "df_clean = kootenay.dropna(axis='columns', how ='any').set_index('Year')\n",
    "\n",
    "list(df_clean.columns)"
   ]
  },
  {
   "cell_type": "markdown",
   "metadata": {},
   "source": [
    "## Data column explanation (from ClimateBC software user manual)\n",
    "\n",
    "Seasonal variables:\n",
    "- Winter (_wt): Dec (prev. yr for an individual year) - Feb\n",
    "- Spring (_sp): March, April and May\n",
    "- Summer (_sm): June, July and August\n",
    "- Autumn (_at): September, October and November \n",
    "\n",
    "Directly calculated seasonal variables:\n",
    "- Tave_wt\twinter mean temperature (°C)\n",
    "- Tave_sp\tspring mean temperature (°C)\n",
    "- Tave_sm\tsummer mean temperature (°C)\n",
    "- Tave_at\tautumn mean temperature (°C)\n",
    "\n",
    "- Tmax_wt\twinter mean maximum temperature (°C)\n",
    "- Tmax_sp\tspring mean maximum temperature (°C)\n",
    "- Tmax_sm\tsummer mean maximum temperature (°C)\n",
    "- Tmax_at\tautumn mean maximum temperature (°C)\n",
    "\n",
    "- Tmin_wt\twinter mean minimum temperature (°C)\n",
    "- Tmin_sp\tspring mean minimum temperature (°C)\n",
    "- Tmin_sm\tsummer mean minimum temperature (°C)\n",
    "- Tmin_at\tautumn mean minimum temperature (°C)\n",
    "\n",
    "- PPT_wt\twinter precipitation (mm)\n",
    "- PPT_sp\tspring precipitation (mm) \n",
    "- PPT_sm\tsummer precipitation (mm) \n",
    "- PPT_at\t\tautumn precipitation (mm)\n",
    "\n",
    "- RAD_wt\twinter solar radiation (MJ m‐2 d‐1)\n",
    "- RAD_sp\tspring solar radiation (MJ m‐2 d‐1)\n",
    "- RAD_sm\tsummer solar radiation (MJ m‐2 d‐1)\n",
    "- RAD_at\tautumn solar radiation (MJ m‐2 d‐1)\n",
    "\n",
    "Derived seasonal variables:\n",
    "- DD_0_wt\twinter degree-days below 0°C\n",
    "- DD_0_sp\tspring degree-days below 0°C\n",
    "- DD_0_sm\tsummer degree-days below 0°C\n",
    "- DD_0_at\tautumn degree-days below 0°C\n",
    "\n",
    "- DD5_wt\twinter degree-days above 5°C\n",
    "- DD5_sp\tspring degree-days above 5°C\n",
    "- DD5_sm\tsummer degree-days above 5°C\n",
    "- DD5_at\tautumn degree-days above 5°C\n",
    "\n",
    "- DD_18_wt\twinter degree-days below 18°C\n",
    "- DD_18_sp\tspring degree-days below 18°C\n",
    "- DD_18_sm\tsummer degree-days below 18°C\n",
    "- DD_18_at\tautumn degree-days below 18°C\n",
    "\n",
    "- DD18_wt\twinter degree-days above 18°C\n",
    "- DD18_sp\tspring degree-days above 18°C\n",
    "- DD18_sm\tsummer degree-days above 18°C\n",
    "- DD18_at\tautumn degree-days above 18°C\n",
    "\n",
    "- NFFD_wt \twinter number of frost-free days\n",
    "- NFFD_sp \tspring number of frost-free days\n",
    "- NFFD_sm \tsummer number of frost-free days\n",
    "- NFFD_at \tautumn number of frost-free days\n",
    "\n",
    "- PAS_wt \twinter precipitation as snow (mm)\n",
    "- PAS_sp \tspring precipitation as snow (mm)\n",
    "- PAS_sm \tsummer precipitation as snow (mm)\n",
    "- PAS_at \tautumn precipitation as snow (mm)\n",
    "\n",
    "- Eref_wt \twinter Hargreaves reference evaporation (mm)\n",
    "- Eref_sp \tspring Hargreaves reference evaporation (mm)\n",
    "- Eref_sm \tsummer Hargreaves reference evaporation (mm)\n",
    "- Eref_at \tautumn Hargreaves reference evaporation (mm)\n",
    "\n",
    "- CMD_wt \twinter Hargreaves climatic moisture deficit (mm)\n",
    "- CMD_sp \tspring Hargreaves climatic moisture deficit (mm)\n",
    "- CMD_sm \tsummer Hargreaves climatic moisture deficit (mm)\n",
    "- CMD_at \tautumn Hargreaves climatic moisture deficit (mm)\n",
    "\n",
    "- RH_wt\t\twinter relative humidity (%)\n",
    "- RH_sp\t\twinter relative humidity (%)\n",
    "- RH_sm\twinter relative humidity (%)\n",
    "- RH_at\t\twinter relative humidity (%)\n"
   ]
  },
  {
   "cell_type": "markdown",
   "metadata": {},
   "source": [
    "## Weather data consideration\n",
    "\n",
    "Snowmelt dominated flood is the target of interest because it is hypothesized that snowmelt induced floods are confined to only a few variables (how much snow on the ground and how warm is the freshet season). This is relatively less complicated than predicting storm precipitation induced flooding.\n",
    "\n",
    "However, the freshet season in around May & June depends on the amount of snow accumulated since last year's October and onward (and therefore hydrologists use \"water year\" which starts in October). Therefore, there no point in correlating this year's summer and fall season to this year's freshet since the two seasons occur after this year's peakflow. Therefore, the summer and fall season weather indices should be shifted back one year (e.g.: 1984 winter match with 1983 summer & fall)."
   ]
  },
  {
   "cell_type": "code",
   "execution_count": 9,
   "metadata": {},
   "outputs": [],
   "source": [
    "df = df_clean.drop([' ID',\n",
    "                             'PARAM',\n",
    "                             'MM--DD',\n",
    "                             'ID1',\n",
    "                             'ID2',\n",
    "                             'Latitude',\n",
    "                             'Longitude',\n",
    "                             'Elevation'], axis=1)\n",
    "\n",
    "\n",
    "df2 = df.copy()\n",
    "df3 = df.copy()\n",
    "df2 = df.loc[:, df.columns.str.contains('_sm') | df.columns.str.contains('_at')]\n",
    "\n",
    "mask = (df3.columns.isin(list(df2.columns.values)))\n",
    "cols_to_shift = df3.columns[mask]\n",
    "df3[cols_to_shift] = df3.loc[:,mask].shift(1)\n",
    "\n",
    "df4 = df3.iloc[1:]"
   ]
  },
  {
   "cell_type": "code",
   "execution_count": 6,
   "metadata": {},
   "outputs": [
    {
     "data": {
      "text/html": [
       "<div>\n",
       "<style scoped>\n",
       "    .dataframe tbody tr th:only-of-type {\n",
       "        vertical-align: middle;\n",
       "    }\n",
       "\n",
       "    .dataframe tbody tr th {\n",
       "        vertical-align: top;\n",
       "    }\n",
       "\n",
       "    .dataframe thead th {\n",
       "        text-align: right;\n",
       "    }\n",
       "</style>\n",
       "<table border=\"1\" class=\"dataframe\">\n",
       "  <thead>\n",
       "    <tr style=\"text-align: right;\">\n",
       "      <th></th>\n",
       "      <th>MAX</th>\n",
       "      <th>Tmax_wt</th>\n",
       "      <th>Tmax_sp</th>\n",
       "      <th>Tmax_sm</th>\n",
       "      <th>Tmax_at</th>\n",
       "      <th>Tmin_wt</th>\n",
       "      <th>Tmin_sp</th>\n",
       "      <th>Tmin_sm</th>\n",
       "      <th>Tmin_at</th>\n",
       "      <th>Tave_wt</th>\n",
       "      <th>...</th>\n",
       "      <th>Eref_sm</th>\n",
       "      <th>Eref_at</th>\n",
       "      <th>CMD_wt</th>\n",
       "      <th>CMD_sp</th>\n",
       "      <th>CMD_sm</th>\n",
       "      <th>CMD_at</th>\n",
       "      <th>RH_wt</th>\n",
       "      <th>RH_sp</th>\n",
       "      <th>RH_sm</th>\n",
       "      <th>RH_at</th>\n",
       "    </tr>\n",
       "    <tr>\n",
       "      <th>Year</th>\n",
       "      <th></th>\n",
       "      <th></th>\n",
       "      <th></th>\n",
       "      <th></th>\n",
       "      <th></th>\n",
       "      <th></th>\n",
       "      <th></th>\n",
       "      <th></th>\n",
       "      <th></th>\n",
       "      <th></th>\n",
       "      <th></th>\n",
       "      <th></th>\n",
       "      <th></th>\n",
       "      <th></th>\n",
       "      <th></th>\n",
       "      <th></th>\n",
       "      <th></th>\n",
       "      <th></th>\n",
       "      <th></th>\n",
       "      <th></th>\n",
       "      <th></th>\n",
       "    </tr>\n",
       "  </thead>\n",
       "  <tbody>\n",
       "    <tr>\n",
       "      <td>1940</td>\n",
       "      <td>28.2</td>\n",
       "      <td>-3.6</td>\n",
       "      <td>8.2</td>\n",
       "      <td>19.0</td>\n",
       "      <td>7.8</td>\n",
       "      <td>-13.0</td>\n",
       "      <td>-2.4</td>\n",
       "      <td>3.3</td>\n",
       "      <td>-2.1</td>\n",
       "      <td>-8.3</td>\n",
       "      <td>...</td>\n",
       "      <td>323.0</td>\n",
       "      <td>77.0</td>\n",
       "      <td>0</td>\n",
       "      <td>0</td>\n",
       "      <td>160.0</td>\n",
       "      <td>0.0</td>\n",
       "      <td>60</td>\n",
       "      <td>63</td>\n",
       "      <td>53.0</td>\n",
       "      <td>65.0</td>\n",
       "    </tr>\n",
       "    <tr>\n",
       "      <td>1941</td>\n",
       "      <td>19.8</td>\n",
       "      <td>-2.4</td>\n",
       "      <td>9.5</td>\n",
       "      <td>20.9</td>\n",
       "      <td>7.3</td>\n",
       "      <td>-12.3</td>\n",
       "      <td>-3.2</td>\n",
       "      <td>4.0</td>\n",
       "      <td>-3.4</td>\n",
       "      <td>-7.3</td>\n",
       "      <td>...</td>\n",
       "      <td>350.0</td>\n",
       "      <td>91.0</td>\n",
       "      <td>0</td>\n",
       "      <td>50</td>\n",
       "      <td>172.0</td>\n",
       "      <td>0.0</td>\n",
       "      <td>59</td>\n",
       "      <td>56</td>\n",
       "      <td>50.0</td>\n",
       "      <td>62.0</td>\n",
       "    </tr>\n",
       "    <tr>\n",
       "      <td>1945</td>\n",
       "      <td>19.7</td>\n",
       "      <td>-4.0</td>\n",
       "      <td>5.1</td>\n",
       "      <td>19.9</td>\n",
       "      <td>6.1</td>\n",
       "      <td>-14.4</td>\n",
       "      <td>-5.6</td>\n",
       "      <td>5.1</td>\n",
       "      <td>-3.6</td>\n",
       "      <td>-9.2</td>\n",
       "      <td>...</td>\n",
       "      <td>331.0</td>\n",
       "      <td>69.0</td>\n",
       "      <td>0</td>\n",
       "      <td>0</td>\n",
       "      <td>87.0</td>\n",
       "      <td>0.0</td>\n",
       "      <td>57</td>\n",
       "      <td>61</td>\n",
       "      <td>55.0</td>\n",
       "      <td>65.0</td>\n",
       "    </tr>\n",
       "    <tr>\n",
       "      <td>1946</td>\n",
       "      <td>31.7</td>\n",
       "      <td>-4.0</td>\n",
       "      <td>8.2</td>\n",
       "      <td>19.3</td>\n",
       "      <td>5.7</td>\n",
       "      <td>-13.3</td>\n",
       "      <td>-3.4</td>\n",
       "      <td>3.8</td>\n",
       "      <td>-5.2</td>\n",
       "      <td>-8.6</td>\n",
       "      <td>...</td>\n",
       "      <td>326.0</td>\n",
       "      <td>79.0</td>\n",
       "      <td>0</td>\n",
       "      <td>0</td>\n",
       "      <td>53.0</td>\n",
       "      <td>0.0</td>\n",
       "      <td>60</td>\n",
       "      <td>60</td>\n",
       "      <td>53.0</td>\n",
       "      <td>61.0</td>\n",
       "    </tr>\n",
       "    <tr>\n",
       "      <td>1948</td>\n",
       "      <td>41.6</td>\n",
       "      <td>-4.3</td>\n",
       "      <td>4.9</td>\n",
       "      <td>19.1</td>\n",
       "      <td>5.1</td>\n",
       "      <td>-14.7</td>\n",
       "      <td>-6.1</td>\n",
       "      <td>3.2</td>\n",
       "      <td>-6.1</td>\n",
       "      <td>-9.5</td>\n",
       "      <td>...</td>\n",
       "      <td>327.0</td>\n",
       "      <td>79.0</td>\n",
       "      <td>0</td>\n",
       "      <td>0</td>\n",
       "      <td>48.0</td>\n",
       "      <td>0.0</td>\n",
       "      <td>56</td>\n",
       "      <td>59</td>\n",
       "      <td>52.0</td>\n",
       "      <td>59.0</td>\n",
       "    </tr>\n",
       "    <tr>\n",
       "      <td>...</td>\n",
       "      <td>...</td>\n",
       "      <td>...</td>\n",
       "      <td>...</td>\n",
       "      <td>...</td>\n",
       "      <td>...</td>\n",
       "      <td>...</td>\n",
       "      <td>...</td>\n",
       "      <td>...</td>\n",
       "      <td>...</td>\n",
       "      <td>...</td>\n",
       "      <td>...</td>\n",
       "      <td>...</td>\n",
       "      <td>...</td>\n",
       "      <td>...</td>\n",
       "      <td>...</td>\n",
       "      <td>...</td>\n",
       "      <td>...</td>\n",
       "      <td>...</td>\n",
       "      <td>...</td>\n",
       "      <td>...</td>\n",
       "      <td>...</td>\n",
       "    </tr>\n",
       "    <tr>\n",
       "      <td>2014</td>\n",
       "      <td>28.3</td>\n",
       "      <td>-4.8</td>\n",
       "      <td>6.0</td>\n",
       "      <td>19.2</td>\n",
       "      <td>6.6</td>\n",
       "      <td>-13.1</td>\n",
       "      <td>-3.5</td>\n",
       "      <td>5.6</td>\n",
       "      <td>-2.8</td>\n",
       "      <td>-8.9</td>\n",
       "      <td>...</td>\n",
       "      <td>316.0</td>\n",
       "      <td>81.0</td>\n",
       "      <td>0</td>\n",
       "      <td>0</td>\n",
       "      <td>56.0</td>\n",
       "      <td>0.0</td>\n",
       "      <td>64</td>\n",
       "      <td>66</td>\n",
       "      <td>58.0</td>\n",
       "      <td>66.0</td>\n",
       "    </tr>\n",
       "    <tr>\n",
       "      <td>2015</td>\n",
       "      <td>23.7</td>\n",
       "      <td>-1.3</td>\n",
       "      <td>9.2</td>\n",
       "      <td>19.6</td>\n",
       "      <td>7.2</td>\n",
       "      <td>-9.1</td>\n",
       "      <td>-1.8</td>\n",
       "      <td>5.8</td>\n",
       "      <td>-2.1</td>\n",
       "      <td>-5.2</td>\n",
       "      <td>...</td>\n",
       "      <td>322.0</td>\n",
       "      <td>81.0</td>\n",
       "      <td>0</td>\n",
       "      <td>25</td>\n",
       "      <td>71.0</td>\n",
       "      <td>0.0</td>\n",
       "      <td>67</td>\n",
       "      <td>62</td>\n",
       "      <td>58.0</td>\n",
       "      <td>68.0</td>\n",
       "    </tr>\n",
       "    <tr>\n",
       "      <td>2016</td>\n",
       "      <td>17.9</td>\n",
       "      <td>-1.7</td>\n",
       "      <td>9.4</td>\n",
       "      <td>20.2</td>\n",
       "      <td>6.9</td>\n",
       "      <td>-9.2</td>\n",
       "      <td>-1.0</td>\n",
       "      <td>5.6</td>\n",
       "      <td>-2.7</td>\n",
       "      <td>-5.4</td>\n",
       "      <td>...</td>\n",
       "      <td>332.0</td>\n",
       "      <td>79.0</td>\n",
       "      <td>0</td>\n",
       "      <td>10</td>\n",
       "      <td>41.0</td>\n",
       "      <td>0.0</td>\n",
       "      <td>69</td>\n",
       "      <td>64</td>\n",
       "      <td>56.0</td>\n",
       "      <td>66.0</td>\n",
       "    </tr>\n",
       "    <tr>\n",
       "      <td>2017</td>\n",
       "      <td>37.6</td>\n",
       "      <td>-6.5</td>\n",
       "      <td>7.0</td>\n",
       "      <td>18.3</td>\n",
       "      <td>7.2</td>\n",
       "      <td>-14.4</td>\n",
       "      <td>-2.1</td>\n",
       "      <td>5.4</td>\n",
       "      <td>-1.3</td>\n",
       "      <td>-10.5</td>\n",
       "      <td>...</td>\n",
       "      <td>301.0</td>\n",
       "      <td>74.0</td>\n",
       "      <td>0</td>\n",
       "      <td>4</td>\n",
       "      <td>17.0</td>\n",
       "      <td>0.0</td>\n",
       "      <td>66</td>\n",
       "      <td>68</td>\n",
       "      <td>60.0</td>\n",
       "      <td>70.0</td>\n",
       "    </tr>\n",
       "    <tr>\n",
       "      <td>2018</td>\n",
       "      <td>30.7</td>\n",
       "      <td>-5.3</td>\n",
       "      <td>6.5</td>\n",
       "      <td>20.4</td>\n",
       "      <td>6.3</td>\n",
       "      <td>-12.5</td>\n",
       "      <td>-2.4</td>\n",
       "      <td>5.7</td>\n",
       "      <td>-2.3</td>\n",
       "      <td>-8.9</td>\n",
       "      <td>...</td>\n",
       "      <td>335.0</td>\n",
       "      <td>78.0</td>\n",
       "      <td>0</td>\n",
       "      <td>0</td>\n",
       "      <td>171.0</td>\n",
       "      <td>0.0</td>\n",
       "      <td>69</td>\n",
       "      <td>68</td>\n",
       "      <td>55.0</td>\n",
       "      <td>69.0</td>\n",
       "    </tr>\n",
       "  </tbody>\n",
       "</table>\n",
       "<p>75 rows × 53 columns</p>\n",
       "</div>"
      ],
      "text/plain": [
       "       MAX  Tmax_wt  Tmax_sp  Tmax_sm  Tmax_at  Tmin_wt  Tmin_sp  Tmin_sm  \\\n",
       "Year                                                                        \n",
       "1940  28.2     -3.6      8.2     19.0      7.8    -13.0     -2.4      3.3   \n",
       "1941  19.8     -2.4      9.5     20.9      7.3    -12.3     -3.2      4.0   \n",
       "1945  19.7     -4.0      5.1     19.9      6.1    -14.4     -5.6      5.1   \n",
       "1946  31.7     -4.0      8.2     19.3      5.7    -13.3     -3.4      3.8   \n",
       "1948  41.6     -4.3      4.9     19.1      5.1    -14.7     -6.1      3.2   \n",
       "...    ...      ...      ...      ...      ...      ...      ...      ...   \n",
       "2014  28.3     -4.8      6.0     19.2      6.6    -13.1     -3.5      5.6   \n",
       "2015  23.7     -1.3      9.2     19.6      7.2     -9.1     -1.8      5.8   \n",
       "2016  17.9     -1.7      9.4     20.2      6.9     -9.2     -1.0      5.6   \n",
       "2017  37.6     -6.5      7.0     18.3      7.2    -14.4     -2.1      5.4   \n",
       "2018  30.7     -5.3      6.5     20.4      6.3    -12.5     -2.4      5.7   \n",
       "\n",
       "      Tmin_at  Tave_wt  ...  Eref_sm  Eref_at  CMD_wt  CMD_sp  CMD_sm  CMD_at  \\\n",
       "Year                    ...                                                     \n",
       "1940     -2.1     -8.3  ...    323.0     77.0       0       0   160.0     0.0   \n",
       "1941     -3.4     -7.3  ...    350.0     91.0       0      50   172.0     0.0   \n",
       "1945     -3.6     -9.2  ...    331.0     69.0       0       0    87.0     0.0   \n",
       "1946     -5.2     -8.6  ...    326.0     79.0       0       0    53.0     0.0   \n",
       "1948     -6.1     -9.5  ...    327.0     79.0       0       0    48.0     0.0   \n",
       "...       ...      ...  ...      ...      ...     ...     ...     ...     ...   \n",
       "2014     -2.8     -8.9  ...    316.0     81.0       0       0    56.0     0.0   \n",
       "2015     -2.1     -5.2  ...    322.0     81.0       0      25    71.0     0.0   \n",
       "2016     -2.7     -5.4  ...    332.0     79.0       0      10    41.0     0.0   \n",
       "2017     -1.3    -10.5  ...    301.0     74.0       0       4    17.0     0.0   \n",
       "2018     -2.3     -8.9  ...    335.0     78.0       0       0   171.0     0.0   \n",
       "\n",
       "      RH_wt  RH_sp  RH_sm  RH_at  \n",
       "Year                              \n",
       "1940     60     63   53.0   65.0  \n",
       "1941     59     56   50.0   62.0  \n",
       "1945     57     61   55.0   65.0  \n",
       "1946     60     60   53.0   61.0  \n",
       "1948     56     59   52.0   59.0  \n",
       "...     ...    ...    ...    ...  \n",
       "2014     64     66   58.0   66.0  \n",
       "2015     67     62   58.0   68.0  \n",
       "2016     69     64   56.0   66.0  \n",
       "2017     66     68   60.0   70.0  \n",
       "2018     69     68   55.0   69.0  \n",
       "\n",
       "[75 rows x 53 columns]"
      ]
     },
     "execution_count": 6,
     "metadata": {},
     "output_type": "execute_result"
    }
   ],
   "source": [
    "df4"
   ]
  },
  {
   "cell_type": "markdown",
   "metadata": {},
   "source": [
    "## Check Linearity and Model Selection\n",
    "\n",
    "Manual model selection is conducted to look for linear relationship between weather indices and floods.\n",
    "In tradiational statistics course on linear regression, step-wise model selection technique is taught but there's opinion that such step-wise is a black box approach and it does not work: https://towardsdatascience.com/stopping-stepwise-why-stepwise-selection-is-bad-and-what-you-should-use-instead-90818b3f52df\n",
    "\n",
    "Instead, I decided to go with the \"expert knowledge\" method of selecting the model."
   ]
  },
  {
   "cell_type": "code",
   "execution_count": 10,
   "metadata": {},
   "outputs": [
    {
     "data": {
      "text/plain": [
       "<seaborn.axisgrid.PairGrid at 0x120071690>"
      ]
     },
     "execution_count": 10,
     "metadata": {},
     "output_type": "execute_result"
    },
    {
     "data": {
      "image/png": "[encoded data removed]",
      "text/plain": [
       "<Figure size 720x180 with 4 Axes>"
      ]
     },
     "metadata": {},
     "output_type": "display_data"
    }
   ],
   "source": [
    "import seaborn as sns\n",
    "%matplotlib inline\n",
    "sns.set_style('whitegrid')\n",
    "\n",
    "#sns.pairplot(df_small)\n",
    "#sns.scatterplot(data=df, x='Tave_sp', y='MAX')\n",
    "\n",
    "sns.pairplot(data=df4,\n",
    "                  y_vars=['MAX'],\n",
    "                  x_vars=['PAS_wt', 'PAS_sp', 'PAS_sm', 'PAS_at'])\n",
    "\n",
    "# some linear correlation between floods and winter/spring snowfall"
   ]
  },
  {
   "cell_type": "code",
   "execution_count": 11,
   "metadata": {},
   "outputs": [
    {
     "data": {
      "text/plain": [
       "<seaborn.axisgrid.PairGrid at 0x1a231a22d0>"
      ]
     },
     "execution_count": 11,
     "metadata": {},
     "output_type": "execute_result"
    },
    {
     "data": {
      "image/png": "[encoded data removed]",
      "text/plain": [
       "<Figure size 720x180 with 4 Axes>"
      ]
     },
     "metadata": {
      "needs_background": "light"
     },
     "output_type": "display_data"
    }
   ],
   "source": [
    "sns.pairplot(data=df4,\n",
    "                  y_vars=['MAX'],\n",
    "                  x_vars=['PPT_wt', 'PPT_sp', 'PPT_sm', 'PPT_at'])\n",
    "\n",
    "# some linear correlation between floods and winter total precipitation\n",
    "# Although, one of the 6 linear regression rules is that the independent variables are not self-correlated\n",
    "# Since total precipitation is directly correlated with snowfall...ignored?"
   ]
  },
  {
   "cell_type": "code",
   "execution_count": 9,
   "metadata": {},
   "outputs": [
    {
     "data": {
      "text/plain": [
       "<seaborn.axisgrid.PairGrid at 0x1a1c199610>"
      ]
     },
     "execution_count": 9,
     "metadata": {},
     "output_type": "execute_result"
    },
    {
     "data": {
      "image/png": "[encoded data removed]",
      "text/plain": [
       "<Figure size 720x180 with 4 Axes>"
      ]
     },
     "metadata": {
      "needs_background": "light"
     },
     "output_type": "display_data"
    }
   ],
   "source": [
    "sns.pairplot(data=df4,\n",
    "                  y_vars=['MAX'],\n",
    "                  x_vars=['Tmax_wt', 'Tmax_sp', 'Tmax_sm', 'Tmax_at'])\n",
    "\n",
    "# Makes sense that the spring (freshet season usually) maximum temperature negatively correlates with floods"
   ]
  },
  {
   "cell_type": "code",
   "execution_count": 10,
   "metadata": {},
   "outputs": [
    {
     "data": {
      "text/plain": [
       "<seaborn.axisgrid.PairGrid at 0x1a1c4c8990>"
      ]
     },
     "execution_count": 10,
     "metadata": {},
     "output_type": "execute_result"
    },
    {
     "data": {
      "image/png": "[encoded data removed]",
      "text/plain": [
       "<Figure size 720x180 with 4 Axes>"
      ]
     },
     "metadata": {
      "needs_background": "light"
     },
     "output_type": "display_data"
    }
   ],
   "source": [
    "sns.pairplot(data=df4,\n",
    "                  y_vars=['MAX'],\n",
    "                  x_vars=['Tmin_wt', 'Tmin_sp', 'Tmin_sm', 'Tmin_at'])\n",
    "\n",
    "# no correlation with minimum temperature...which makes sense"
   ]
  },
  {
   "cell_type": "code",
   "execution_count": 11,
   "metadata": {},
   "outputs": [
    {
     "data": {
      "text/plain": [
       "<seaborn.axisgrid.PairGrid at 0x1a1c634090>"
      ]
     },
     "execution_count": 11,
     "metadata": {},
     "output_type": "execute_result"
    },
    {
     "data": {
      "image/png": "[encoded data removed]",
      "text/plain": [
       "<Figure size 720x180 with 4 Axes>"
      ]
     },
     "metadata": {
      "needs_background": "light"
     },
     "output_type": "display_data"
    }
   ],
   "source": [
    "sns.pairplot(data=df4,\n",
    "                  y_vars=['MAX'],\n",
    "                  x_vars=['DD_0_wt', 'DD_0_sp', 'DD_0_sm', 'DD_0_at'])\n",
    "\n",
    "#degree day above 0 is self-correlate with temperatures...ignore"
   ]
  },
  {
   "cell_type": "code",
   "execution_count": 12,
   "metadata": {},
   "outputs": [
    {
     "data": {
      "text/plain": [
       "<seaborn.axisgrid.PairGrid at 0x1a1c992190>"
      ]
     },
     "execution_count": 12,
     "metadata": {},
     "output_type": "execute_result"
    },
    {
     "data": {
      "image/png": "[encoded data removed]",
      "text/plain": [
       "<Figure size 720x180 with 4 Axes>"
      ]
     },
     "metadata": {
      "needs_background": "light"
     },
     "output_type": "display_data"
    }
   ],
   "source": [
    "sns.pairplot(data=df4,\n",
    "                  y_vars=['MAX'],\n",
    "                  x_vars=['CMD_wt', 'CMD_sp', 'CMD_sm', 'CMD_at'])\n",
    "\n",
    "# not seeing any correlation"
   ]
  },
  {
   "cell_type": "code",
   "execution_count": 13,
   "metadata": {},
   "outputs": [
    {
     "data": {
      "text/plain": [
       "<seaborn.axisgrid.PairGrid at 0x1a1cbc24d0>"
      ]
     },
     "execution_count": 13,
     "metadata": {},
     "output_type": "execute_result"
    },
    {
     "data": {
      "image/png": "[encoded data removed]",
      "text/plain": [
       "<Figure size 720x180 with 4 Axes>"
      ]
     },
     "metadata": {
      "needs_background": "light"
     },
     "output_type": "display_data"
    }
   ],
   "source": [
    "sns.pairplot(data=df4,\n",
    "                  y_vars=['MAX'],\n",
    "                  x_vars=['Eref_wt', 'Eref_sp', 'Eref_sm', 'Eref_at'])\n",
    "\n",
    "# not seeing any correlation"
   ]
  },
  {
   "cell_type": "code",
   "execution_count": 14,
   "metadata": {},
   "outputs": [
    {
     "data": {
      "text/plain": [
       "<seaborn.axisgrid.PairGrid at 0x1a1cd86610>"
      ]
     },
     "execution_count": 14,
     "metadata": {},
     "output_type": "execute_result"
    },
    {
     "data": {
      "image/png": "[encoded data removed]",
      "text/plain": [
       "<Figure size 720x180 with 4 Axes>"
      ]
     },
     "metadata": {
      "needs_background": "light"
     },
     "output_type": "display_data"
    }
   ],
   "source": [
    "sns.pairplot(data=df4,\n",
    "                  y_vars=['MAX'],\n",
    "                  x_vars=['RH_wt', 'RH_sp', 'RH_sm', 'RH_at'])\n",
    "\n",
    "# Some linear correlation with the spring relative humidity"
   ]
  },
  {
   "cell_type": "markdown",
   "metadata": {},
   "source": [
    "## Multiple Linear Regression\n",
    "\n",
    "y ~ PAS_wt + PAS_sp + Tmax_sp + RH_sp\n",
    "\n",
    "Overall the model makes sense physically (depends on winter/spring precipitation and warm spell temperature of spring time).\n",
    "\n"
   ]
  },
  {
   "cell_type": "code",
   "execution_count": 12,
   "metadata": {},
   "outputs": [
    {
     "data": {
      "text/html": [
       "<div>\n",
       "<style scoped>\n",
       "    .dataframe tbody tr th:only-of-type {\n",
       "        vertical-align: middle;\n",
       "    }\n",
       "\n",
       "    .dataframe tbody tr th {\n",
       "        vertical-align: top;\n",
       "    }\n",
       "\n",
       "    .dataframe thead th {\n",
       "        text-align: right;\n",
       "    }\n",
       "</style>\n",
       "<table border=\"1\" class=\"dataframe\">\n",
       "  <thead>\n",
       "    <tr style=\"text-align: right;\">\n",
       "      <th></th>\n",
       "      <th>MAX</th>\n",
       "      <th>PAS_wt</th>\n",
       "      <th>PAS_sp</th>\n",
       "      <th>Tmax_sp</th>\n",
       "      <th>RH_sp</th>\n",
       "    </tr>\n",
       "  </thead>\n",
       "  <tbody>\n",
       "    <tr>\n",
       "      <td>count</td>\n",
       "      <td>75.000000</td>\n",
       "      <td>75.000000</td>\n",
       "      <td>75.000000</td>\n",
       "      <td>75.000000</td>\n",
       "      <td>75.000000</td>\n",
       "    </tr>\n",
       "    <tr>\n",
       "      <td>mean</td>\n",
       "      <td>32.336000</td>\n",
       "      <td>294.480000</td>\n",
       "      <td>135.133333</td>\n",
       "      <td>6.486667</td>\n",
       "      <td>62.053333</td>\n",
       "    </tr>\n",
       "    <tr>\n",
       "      <td>std</td>\n",
       "      <td>8.679171</td>\n",
       "      <td>109.305345</td>\n",
       "      <td>45.819072</td>\n",
       "      <td>1.348105</td>\n",
       "      <td>2.710806</td>\n",
       "    </tr>\n",
       "    <tr>\n",
       "      <td>min</td>\n",
       "      <td>17.900000</td>\n",
       "      <td>105.000000</td>\n",
       "      <td>60.000000</td>\n",
       "      <td>2.700000</td>\n",
       "      <td>55.000000</td>\n",
       "    </tr>\n",
       "    <tr>\n",
       "      <td>25%</td>\n",
       "      <td>25.800000</td>\n",
       "      <td>222.000000</td>\n",
       "      <td>103.500000</td>\n",
       "      <td>5.650000</td>\n",
       "      <td>60.500000</td>\n",
       "    </tr>\n",
       "    <tr>\n",
       "      <td>50%</td>\n",
       "      <td>31.700000</td>\n",
       "      <td>269.000000</td>\n",
       "      <td>134.000000</td>\n",
       "      <td>6.500000</td>\n",
       "      <td>62.000000</td>\n",
       "    </tr>\n",
       "    <tr>\n",
       "      <td>75%</td>\n",
       "      <td>37.150000</td>\n",
       "      <td>360.500000</td>\n",
       "      <td>159.000000</td>\n",
       "      <td>7.400000</td>\n",
       "      <td>64.000000</td>\n",
       "    </tr>\n",
       "    <tr>\n",
       "      <td>max</td>\n",
       "      <td>53.000000</td>\n",
       "      <td>634.000000</td>\n",
       "      <td>251.000000</td>\n",
       "      <td>9.500000</td>\n",
       "      <td>68.000000</td>\n",
       "    </tr>\n",
       "  </tbody>\n",
       "</table>\n",
       "</div>"
      ],
      "text/plain": [
       "             MAX      PAS_wt      PAS_sp    Tmax_sp      RH_sp\n",
       "count  75.000000   75.000000   75.000000  75.000000  75.000000\n",
       "mean   32.336000  294.480000  135.133333   6.486667  62.053333\n",
       "std     8.679171  109.305345   45.819072   1.348105   2.710806\n",
       "min    17.900000  105.000000   60.000000   2.700000  55.000000\n",
       "25%    25.800000  222.000000  103.500000   5.650000  60.500000\n",
       "50%    31.700000  269.000000  134.000000   6.500000  62.000000\n",
       "75%    37.150000  360.500000  159.000000   7.400000  64.000000\n",
       "max    53.000000  634.000000  251.000000   9.500000  68.000000"
      ]
     },
     "execution_count": 12,
     "metadata": {},
     "output_type": "execute_result"
    }
   ],
   "source": [
    "import matplotlib.pyplot as plt\n",
    "from sklearn.model_selection import train_test_split \n",
    "from sklearn.linear_model import LinearRegression\n",
    "from sklearn import metrics\n",
    "%matplotlib inline\n",
    "\n",
    "MLR = df4.copy()\n",
    "MLR = df4[['MAX', 'PAS_wt', 'PAS_sp', 'Tmax_sp', 'RH_sp']]\n",
    "MLR.describe()"
   ]
  },
  {
   "cell_type": "markdown",
   "metadata": {},
   "source": [
    "## Model Calibration and Validation\n",
    "Set up the multiple linear model. Train the model with 80% of the data and validate the model with 20% of the data."
   ]
  },
  {
   "cell_type": "code",
   "execution_count": 13,
   "metadata": {},
   "outputs": [
    {
     "data": {
      "text/plain": [
       "LinearRegression(copy_X=True, fit_intercept=True, n_jobs=None, normalize=False)"
      ]
     },
     "execution_count": 13,
     "metadata": {},
     "output_type": "execute_result"
    }
   ],
   "source": [
    "X = MLR[['PAS_wt', 'PAS_sp', 'Tmax_sp', 'RH_sp']]\n",
    "y = MLR['MAX']\n",
    "X_train, X_test, y_train, y_test = train_test_split(X.values, y.values, test_size=0.2, random_state=0)\n",
    "regressor = LinearRegression()  \n",
    "regressor.fit(X_train, y_train)"
   ]
  },
  {
   "cell_type": "code",
   "execution_count": 14,
   "metadata": {},
   "outputs": [
    {
     "data": {
      "text/html": [
       "<div>\n",
       "<style scoped>\n",
       "    .dataframe tbody tr th:only-of-type {\n",
       "        vertical-align: middle;\n",
       "    }\n",
       "\n",
       "    .dataframe tbody tr th {\n",
       "        vertical-align: top;\n",
       "    }\n",
       "\n",
       "    .dataframe thead th {\n",
       "        text-align: right;\n",
       "    }\n",
       "</style>\n",
       "<table border=\"1\" class=\"dataframe\">\n",
       "  <thead>\n",
       "    <tr style=\"text-align: right;\">\n",
       "      <th></th>\n",
       "      <th>Coefficient</th>\n",
       "    </tr>\n",
       "  </thead>\n",
       "  <tbody>\n",
       "    <tr>\n",
       "      <td>PAS_wt</td>\n",
       "      <td>0.040327</td>\n",
       "    </tr>\n",
       "    <tr>\n",
       "      <td>PAS_sp</td>\n",
       "      <td>0.040126</td>\n",
       "    </tr>\n",
       "    <tr>\n",
       "      <td>Tmax_sp</td>\n",
       "      <td>0.183913</td>\n",
       "    </tr>\n",
       "    <tr>\n",
       "      <td>RH_sp</td>\n",
       "      <td>1.490392</td>\n",
       "    </tr>\n",
       "  </tbody>\n",
       "</table>\n",
       "</div>"
      ],
      "text/plain": [
       "         Coefficient\n",
       "PAS_wt      0.040327\n",
       "PAS_sp      0.040126\n",
       "Tmax_sp     0.183913\n",
       "RH_sp       1.490392"
      ]
     },
     "execution_count": 14,
     "metadata": {},
     "output_type": "execute_result"
    }
   ],
   "source": [
    "coeff_df = pd.DataFrame(regressor.coef_, X.columns, columns=['Coefficient'])  \n",
    "coeff_df\n"
   ]
  },
  {
   "cell_type": "markdown",
   "metadata": {},
   "source": [
    "Calibrated model for 08NF001 is:\n",
    "\n",
    "Annual Flood = 0.04*(winter snowfall) + 0.04*(spring snowfall) + 0.18*(spring max temperature) + 1.49*(spring relative humidity)\n",
    "\n",
    "Now validate this model with the remaining 20% of the data."
   ]
  },
  {
   "cell_type": "code",
   "execution_count": 15,
   "metadata": {},
   "outputs": [
    {
     "data": {
      "text/html": [
       "<div>\n",
       "<style scoped>\n",
       "    .dataframe tbody tr th:only-of-type {\n",
       "        vertical-align: middle;\n",
       "    }\n",
       "\n",
       "    .dataframe tbody tr th {\n",
       "        vertical-align: top;\n",
       "    }\n",
       "\n",
       "    .dataframe thead th {\n",
       "        text-align: right;\n",
       "    }\n",
       "</style>\n",
       "<table border=\"1\" class=\"dataframe\">\n",
       "  <thead>\n",
       "    <tr style=\"text-align: right;\">\n",
       "      <th></th>\n",
       "      <th>Actual</th>\n",
       "      <th>Predicted</th>\n",
       "      <th>Residuals</th>\n",
       "    </tr>\n",
       "  </thead>\n",
       "  <tbody>\n",
       "    <tr>\n",
       "      <td>0</td>\n",
       "      <td>42.0</td>\n",
       "      <td>36.880469</td>\n",
       "      <td>5.119531</td>\n",
       "    </tr>\n",
       "    <tr>\n",
       "      <td>1</td>\n",
       "      <td>25.6</td>\n",
       "      <td>29.455434</td>\n",
       "      <td>-3.855434</td>\n",
       "    </tr>\n",
       "    <tr>\n",
       "      <td>2</td>\n",
       "      <td>41.3</td>\n",
       "      <td>30.848128</td>\n",
       "      <td>10.451872</td>\n",
       "    </tr>\n",
       "    <tr>\n",
       "      <td>3</td>\n",
       "      <td>30.7</td>\n",
       "      <td>42.550507</td>\n",
       "      <td>-11.850507</td>\n",
       "    </tr>\n",
       "    <tr>\n",
       "      <td>4</td>\n",
       "      <td>48.4</td>\n",
       "      <td>44.520892</td>\n",
       "      <td>3.879108</td>\n",
       "    </tr>\n",
       "    <tr>\n",
       "      <td>5</td>\n",
       "      <td>24.7</td>\n",
       "      <td>24.312267</td>\n",
       "      <td>0.387733</td>\n",
       "    </tr>\n",
       "    <tr>\n",
       "      <td>6</td>\n",
       "      <td>21.3</td>\n",
       "      <td>22.917730</td>\n",
       "      <td>-1.617730</td>\n",
       "    </tr>\n",
       "    <tr>\n",
       "      <td>7</td>\n",
       "      <td>21.5</td>\n",
       "      <td>27.509380</td>\n",
       "      <td>-6.009380</td>\n",
       "    </tr>\n",
       "    <tr>\n",
       "      <td>8</td>\n",
       "      <td>33.7</td>\n",
       "      <td>38.228613</td>\n",
       "      <td>-4.528613</td>\n",
       "    </tr>\n",
       "    <tr>\n",
       "      <td>9</td>\n",
       "      <td>33.1</td>\n",
       "      <td>32.657275</td>\n",
       "      <td>0.442725</td>\n",
       "    </tr>\n",
       "    <tr>\n",
       "      <td>10</td>\n",
       "      <td>29.3</td>\n",
       "      <td>25.708885</td>\n",
       "      <td>3.591115</td>\n",
       "    </tr>\n",
       "    <tr>\n",
       "      <td>11</td>\n",
       "      <td>35.2</td>\n",
       "      <td>34.268653</td>\n",
       "      <td>0.931347</td>\n",
       "    </tr>\n",
       "    <tr>\n",
       "      <td>12</td>\n",
       "      <td>29.3</td>\n",
       "      <td>25.027385</td>\n",
       "      <td>4.272615</td>\n",
       "    </tr>\n",
       "    <tr>\n",
       "      <td>13</td>\n",
       "      <td>25.3</td>\n",
       "      <td>33.282234</td>\n",
       "      <td>-7.982234</td>\n",
       "    </tr>\n",
       "    <tr>\n",
       "      <td>14</td>\n",
       "      <td>29.4</td>\n",
       "      <td>26.438994</td>\n",
       "      <td>2.961006</td>\n",
       "    </tr>\n",
       "  </tbody>\n",
       "</table>\n",
       "</div>"
      ],
      "text/plain": [
       "    Actual  Predicted  Residuals\n",
       "0     42.0  36.880469   5.119531\n",
       "1     25.6  29.455434  -3.855434\n",
       "2     41.3  30.848128  10.451872\n",
       "3     30.7  42.550507 -11.850507\n",
       "4     48.4  44.520892   3.879108\n",
       "5     24.7  24.312267   0.387733\n",
       "6     21.3  22.917730  -1.617730\n",
       "7     21.5  27.509380  -6.009380\n",
       "8     33.7  38.228613  -4.528613\n",
       "9     33.1  32.657275   0.442725\n",
       "10    29.3  25.708885   3.591115\n",
       "11    35.2  34.268653   0.931347\n",
       "12    29.3  25.027385   4.272615\n",
       "13    25.3  33.282234  -7.982234\n",
       "14    29.4  26.438994   2.961006"
      ]
     },
     "execution_count": 15,
     "metadata": {},
     "output_type": "execute_result"
    }
   ],
   "source": [
    "y_pred = regressor.predict(X_test)\n",
    "df_pred = pd.DataFrame({'Actual': y_test, 'Predicted': y_pred, 'Residuals': y_test-y_pred})\n",
    "df_pred1 = df_pred.head(25)\n",
    "df_pred1"
   ]
  },
  {
   "cell_type": "code",
   "execution_count": 38,
   "metadata": {},
   "outputs": [
    {
     "data": {
      "image/png": "[encoded data removed]",
      "text/plain": [
       "<Figure size 720x576 with 1 Axes>"
      ]
     },
     "metadata": {
      "needs_background": "light"
     },
     "output_type": "display_data"
    }
   ],
   "source": [
    "# Plot bar plot to compare actual vs predicted\n",
    "\n",
    "df_pred1.plot(kind='bar',figsize=(10,8))\n",
    "plt.grid(which='major', linestyle='-', linewidth='0.5', color='green')\n",
    "plt.grid(which='minor', linestyle=':', linewidth='0.5', color='black')\n",
    "plt.show()"
   ]
  },
  {
   "cell_type": "markdown",
   "metadata": {},
   "source": [
    "## Checking Linear Model Assumptions\n",
    "\n",
    "Bad things happen if the 6 assumptions of linear regression are not met, so we need to check them \n",
    "\n",
    "1. The relationship between the x’s and y is linear (Checked during model selection process)\n",
    "2. Homoscedasticity (equal variance) (checked using the variance scatter plot below, make sure no cone or trend)\n",
    "3. Independent of observations (x & y) (although the floods Y might be auto-correlate in time due to climatic decadal osscilation...we will assume this assumption is met. For Xs, effort has been spent on avoiding correlation between variables (i.e. not including both temperatures and degree day above certain temperature)\n",
    "4. Normality (checked using the normality plot below)\n",
    "\n",
    "Assumption 5 & 6 are about measurement and collection of sample data (no measurement error samples are unbiased from the population...which we just assume these assumptions are met).\n",
    "\n",
    "Sources:\n",
    "- LeMay, V.M., (2014), *FRST533C Advanced biometrics course note package*, UBC Forestry.\n",
    "- Kutner, M. H., Nachtsheim, C. J., Neter, J., & Li, W. (2005). *Applied linear statistical models* (Vol. 5). New York: McGraw-Hill Irwin.\n"
   ]
  },
  {
   "cell_type": "code",
   "execution_count": 16,
   "metadata": {},
   "outputs": [
    {
     "data": {
      "text/plain": [
       "<matplotlib.axes._subplots.AxesSubplot at 0x1a240f8390>"
      ]
     },
     "execution_count": 16,
     "metadata": {},
     "output_type": "execute_result"
    },
    {
     "data": {
      "image/png": "[encoded data removed]",
      "text/plain": [
       "<Figure size 432x288 with 1 Axes>"
      ]
     },
     "metadata": {
      "needs_background": "light"
     },
     "output_type": "display_data"
    }
   ],
   "source": [
    "df_pred1.plot(x='Residuals', y='Predicted', style = 'o')"
   ]
  },
  {
   "cell_type": "code",
   "execution_count": 17,
   "metadata": {},
   "outputs": [
    {
     "data": {
      "text/plain": [
       "0.9710524430998326"
      ]
     },
     "execution_count": 17,
     "metadata": {},
     "output_type": "execute_result"
    },
    {
     "data": {
      "image/png": "[encoded data removed]",
      "text/plain": [
       "<Figure size 432x180 with 1 Axes>"
      ]
     },
     "metadata": {
      "needs_background": "light"
     },
     "output_type": "display_data"
    }
   ],
   "source": [
    "import scipy as sp\n",
    "fig, ax = plt.subplots(figsize=(6,2.5))\n",
    "_, (__, ___, r) = sp.stats.probplot(df_pred1['Residuals'], plot=ax, fit=True)\n",
    "r**2\n",
    "\n",
    "# normal enough? The high tail is a bit not sure..."
   ]
  },
  {
   "cell_type": "markdown",
   "metadata": {},
   "source": [
    "Below is an example of when assumptions are not met (i.e.: not equal, increasing variance of residuals and non-normal residuals) (From LeMay, V.M., (2014), *FRST533C Advanced biometrics course note package*, UBC Forestry)\n",
    "\n",
    "<img src=\"./example_of_bad_MLR.png\" alt=\"BadExample\"\n",
    "\ttitle=\"Bad Example of MLR\" width=\"400\" height=\"500\" />"
   ]
  },
  {
   "cell_type": "markdown",
   "metadata": {},
   "source": [
    "**In conclusion**...the assumptions are met...good enough"
   ]
  },
  {
   "cell_type": "code",
   "execution_count": 72,
   "metadata": {},
   "outputs": [
    {
     "name": "stdout",
     "output_type": "stream",
     "text": [
      "Mean Absolute Error: 4.525396639148882\n",
      "Mean Squared Error: 31.325621826303937\n",
      "Root Mean Squared Error: 5.596929678520532\n"
     ]
    }
   ],
   "source": [
    "# Validation & Performance Measurements\n",
    "\n",
    "print('Mean Absolute Error:', metrics.mean_absolute_error(y_test, y_pred))  \n",
    "print('Mean Squared Error:', metrics.mean_squared_error(y_test, y_pred))  \n",
    "print('Root Mean Squared Error:', np.sqrt(metrics.mean_squared_error(y_test, y_pred)))"
   ]
  },
  {
   "cell_type": "code",
   "execution_count": 41,
   "metadata": {},
   "outputs": [
    {
     "data": {
      "text/plain": [
       "17.30866427053604"
      ]
     },
     "execution_count": 41,
     "metadata": {},
     "output_type": "execute_result"
    }
   ],
   "source": [
    "MAX_mean = MLR.describe().iloc[1,0] #what's the mean annual flood?\n",
    "RMSE = np.sqrt(metrics.mean_squared_error(y_test, y_pred))\n",
    "\n",
    "RMSE/MAX_mean * 100"
   ]
  },
  {
   "cell_type": "markdown",
   "metadata": {},
   "source": [
    "# Conclusion & Limitations\n",
    "\n",
    "The predicted annual floods using only 4 weather indecies (winter/spring snowfall, spring max temperature, and spring relative humidity) are 17% different from the measured annual flood in the validation dataset. This is a good performance given the simplicity of the model (only 4 variables!). And in the practice of hydrology, 17% is not that hard to sell given the uncertain nature of flood runoff generation. The model outcome also supports the hypothesis that snowmelt dominated region's annual flood is perhaps easier to predict.\n",
    "\n",
    "It is worth mentioning that this model follows the simplicity rule of modelling (simpler the better) and it can be easily defended using physics and hyrological processes. Potential limitation of this methodology is the requirement of long record length for calibrtion. As this may not be possible for most parts of the province & country. Also, from the comparison of predicted vs observed, the performance is worse for extreme floods (but ot bad enough to violate equal variance assumption given the dataset). This is not surprising for predictions coming out of regression method, however, attention must be given when using this method on condition deviated too much from the mean annual flood."
   ]
  }
 ],
 "metadata": {
  "kernelspec": {
   "display_name": "Python 3",
   "language": "python",
   "name": "python3"
  },
  "language_info": {
   "codemirror_mode": {
    "name": "ipython",
    "version": 3
   },
   "file_extension": ".py",
   "mimetype": "text/x-python",
   "name": "python",
   "nbconvert_exporter": "python",
   "pygments_lexer": "ipython3",
   "version": "3.7.4"
  }
 },
 "nbformat": 4,
 "nbformat_minor": 4
}
